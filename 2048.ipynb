{
 "cells": [
  {
   "cell_type": "markdown",
   "metadata": {
    "id": "c8Qlp4ZYQxUK",
    "tags": []
   },
   "source": [
    "# Load packages"
   ]
  },
  {
   "cell_type": "code",
   "execution_count": 40,
   "metadata": {
    "colab": {
     "base_uri": "https://localhost:8080/"
    },
    "id": "zqV67rGrN5mX",
    "outputId": "ac7b0f26-a0ce-488d-f1b3-fd80f6f31f69",
    "tags": []
   },
   "outputs": [
    {
     "name": "stdout",
     "output_type": "stream",
     "text": [
      "The autoreload extension is already loaded. To reload it, use:\n",
      "  %reload_ext autoreload\n"
     ]
    },
    {
     "data": {
      "text/plain": [
       "<contextlib.ExitStack at 0x31e4bb490>"
      ]
     },
     "execution_count": 40,
     "metadata": {},
     "output_type": "execute_result"
    }
   ],
   "source": [
    "%load_ext autoreload\n",
    "%autoreload 2\n",
    "\n",
    "import importlib\n",
    "\n",
    "# custom packages\n",
    "from src.gym2048 import gym2048\n",
    "from src.models import CNN22\n",
    "from src.RL import TDL\n",
    "\n",
    "importlib.reload(importlib.import_module('src.gym2048'))\n",
    "importlib.reload(importlib.import_module('src.RL'))\n",
    "\n",
    "import numpy as np\n",
    "import matplotlib\n",
    "import matplotlib.pyplot as plt\n",
    "import pandas as pd\n",
    "import seaborn as sns\n",
    "import pickle\n",
    "import cProfile\n",
    "import pstats\n",
    "\n",
    "# set up matplotlib\n",
    "is_ipython = 'inline' in matplotlib.get_backend()\n",
    "if is_ipython:\n",
    "    from IPython import display\n",
    "\n",
    "plt.ion()"
   ]
  },
  {
   "cell_type": "markdown",
   "metadata": {
    "id": "e9zSwJl4Q4yS"
   },
   "source": [
    "# Load and test environment"
   ]
  },
  {
   "cell_type": "code",
   "execution_count": 1,
   "metadata": {
    "id": "SWuvyicYRqz_",
    "tags": []
   },
   "outputs": [
    {
     "ename": "NameError",
     "evalue": "name 'gym2048' is not defined",
     "output_type": "error",
     "traceback": [
      "\u001b[0;31m---------------------------------------------------------------------------\u001b[0m",
      "\u001b[0;31mNameError\u001b[0m                                 Traceback (most recent call last)",
      "Cell \u001b[0;32mIn[1], line 1\u001b[0m\n\u001b[0;32m----> 1\u001b[0m env \u001b[38;5;241m=\u001b[39m \u001b[43mgym2048\u001b[49m()\n",
      "\u001b[0;31mNameError\u001b[0m: name 'gym2048' is not defined"
     ]
    }
   ],
   "source": [
    "env = gym2048()"
   ]
  },
  {
   "cell_type": "code",
   "execution_count": null,
   "metadata": {},
   "outputs": [
    {
     "name": "stdout",
     "output_type": "stream",
     "text": [
      "\n",
      " Check SwipeLeft \n",
      "\n",
      "[ True  True  True  True] True\n",
      "[ True  True  True  True] True\n",
      "[ True  True  True  True] True\n",
      "[ True  True  True  True] True\n",
      "[ True  True  True  True] True\n",
      "\n",
      " Check SwipeLeft \n",
      "\n",
      "[[0 0 2 2]\n",
      " [0 2 2 2]\n",
      " [2 0 2 0]\n",
      " [0 2 0 0]]\n",
      "[[4 0 0 0]\n",
      " [4 2 0 0]\n",
      " [4 0 0 0]\n",
      " [2 0 0 0]]\n",
      "[[0 0 0 4]\n",
      " [0 0 2 4]\n",
      " [0 0 0 4]\n",
      " [0 0 0 2]]\n",
      "[[2 4 4 4]\n",
      " [0 0 2 0]\n",
      " [0 0 0 0]\n",
      " [0 0 0 0]]\n",
      "[[0 0 0 0]\n",
      " [0 0 0 0]\n",
      " [0 0 2 0]\n",
      " [2 4 4 4]]\n",
      "[[ True  True  True  True]\n",
      " [ True  True  True  True]\n",
      " [ True  True  True  True]\n",
      " [ True  True  True  True]] True\n",
      "[[ True  True  True  True]\n",
      " [ True  True  True  True]\n",
      " [ True  True  True  True]\n",
      " [ True  True  True  True]] True\n",
      "[[ True  True  True  True]\n",
      " [ True  True  True  True]\n",
      " [ True  True  True  True]\n",
      " [ True  True  True  True]] True\n",
      "[[ True  True  True  True]\n",
      " [ True  True  True  True]\n",
      " [ True  True  True  True]\n",
      " [ True  True  True  True]] True\n",
      "[[ True  True  True  True]\n",
      " [ True  True  True  True]\n",
      " [ True  True  True  True]\n",
      " [ True  True  True  True]]\n",
      "\n",
      " Check encode / decode \n",
      "\n",
      "[[0 0 2 2]\n",
      " [0 2 2 2]\n",
      " [2 0 2 0]\n",
      " [0 2 0 0]]\n",
      "[[[1. 1. 0. 0.]\n",
      "  [1. 0. 0. 0.]\n",
      "  [0. 1. 0. 1.]\n",
      "  [1. 0. 1. 1.]]\n",
      "\n",
      " [[0. 0. 1. 1.]\n",
      "  [0. 1. 1. 1.]\n",
      "  [1. 0. 1. 0.]\n",
      "  [0. 1. 0. 0.]]\n",
      "\n",
      " [[0. 0. 0. 0.]\n",
      "  [0. 0. 0. 0.]\n",
      "  [0. 0. 0. 0.]\n",
      "  [0. 0. 0. 0.]]\n",
      "\n",
      " [[0. 0. 0. 0.]\n",
      "  [0. 0. 0. 0.]\n",
      "  [0. 0. 0. 0.]\n",
      "  [0. 0. 0. 0.]]\n",
      "\n",
      " [[0. 0. 0. 0.]\n",
      "  [0. 0. 0. 0.]\n",
      "  [0. 0. 0. 0.]\n",
      "  [0. 0. 0. 0.]]\n",
      "\n",
      " [[0. 0. 0. 0.]\n",
      "  [0. 0. 0. 0.]\n",
      "  [0. 0. 0. 0.]\n",
      "  [0. 0. 0. 0.]]\n",
      "\n",
      " [[0. 0. 0. 0.]\n",
      "  [0. 0. 0. 0.]\n",
      "  [0. 0. 0. 0.]\n",
      "  [0. 0. 0. 0.]]\n",
      "\n",
      " [[0. 0. 0. 0.]\n",
      "  [0. 0. 0. 0.]\n",
      "  [0. 0. 0. 0.]\n",
      "  [0. 0. 0. 0.]]\n",
      "\n",
      " [[0. 0. 0. 0.]\n",
      "  [0. 0. 0. 0.]\n",
      "  [0. 0. 0. 0.]\n",
      "  [0. 0. 0. 0.]]\n",
      "\n",
      " [[0. 0. 0. 0.]\n",
      "  [0. 0. 0. 0.]\n",
      "  [0. 0. 0. 0.]\n",
      "  [0. 0. 0. 0.]]\n",
      "\n",
      " [[0. 0. 0. 0.]\n",
      "  [0. 0. 0. 0.]\n",
      "  [0. 0. 0. 0.]\n",
      "  [0. 0. 0. 0.]]\n",
      "\n",
      " [[0. 0. 0. 0.]\n",
      "  [0. 0. 0. 0.]\n",
      "  [0. 0. 0. 0.]\n",
      "  [0. 0. 0. 0.]]\n",
      "\n",
      " [[0. 0. 0. 0.]\n",
      "  [0. 0. 0. 0.]\n",
      "  [0. 0. 0. 0.]\n",
      "  [0. 0. 0. 0.]]\n",
      "\n",
      " [[0. 0. 0. 0.]\n",
      "  [0. 0. 0. 0.]\n",
      "  [0. 0. 0. 0.]\n",
      "  [0. 0. 0. 0.]]]\n",
      "[[0. 0. 2. 2.]\n",
      " [0. 2. 2. 2.]\n",
      " [2. 0. 2. 0.]\n",
      " [0. 2. 0. 0.]]\n",
      "[[ True  True  True  True]\n",
      " [ True  True  True  True]\n",
      " [ True  True  True  True]\n",
      " [ True  True  True  True]]\n",
      "\n",
      " Check Afterstate \n",
      "\n",
      "[[ True  True  True  True]\n",
      " [ True  True  True  True]\n",
      " [ True  True  True  True]\n",
      " [ True  True  True  True]]\n",
      "[[ True  True  True  True]\n",
      " [ True  True  True  True]\n",
      " [ True  True  True  True]\n",
      " [ True  True  True  True]]\n",
      "[[ True  True  True  True]\n",
      " [ True  True  True  True]\n",
      " [ True  True  True  True]\n",
      " [ True  True  True  True]]\n",
      "[[ True  True  True  True]\n",
      " [ True  True  True  True]\n",
      " [ True  True  True  True]\n",
      " [ True  True  True  True]]\n",
      "\n",
      " Playing one random game\n",
      "\n",
      "Final state:\n",
      "[[ 4  8  2 16]\n",
      " [32  4  8  2]\n",
      " [ 2 64  2  4]\n",
      " [ 4 16  4  2]]\n",
      "Max tile: 64\n",
      "Score: 560\n",
      "Number of moves: 76\n"
     ]
    }
   ],
   "source": [
    "env.check()"
   ]
  },
  {
   "cell_type": "markdown",
   "metadata": {},
   "source": [
    "# Training"
   ]
  },
  {
   "cell_type": "code",
   "execution_count": null,
   "metadata": {},
   "outputs": [],
   "source": [
    "#env = Monitor(env, filename=\"./logs/tdl_cnn_2024_11_14_1.csv\")\n",
    "model = TDL(CNN22, env, device=\"mps\")\n",
    "#model.load_network('./TDL_CNN_2024_11_10_1/rl_model_10000_epsiodes.zip')"
   ]
  },
  {
   "cell_type": "code",
   "execution_count": null,
   "metadata": {},
   "outputs": [],
   "source": [
    "#profiler = cProfile.Profile()\n",
    "#profiler.enable()\n",
    "\n",
    "model.learn(\n",
    "    1e7, \n",
    "    learning_rate=1e-3, \n",
    "    gamma=0.99, \n",
    "    buffer_size=1024, \n",
    "    exploration_initial_eps=0.0, \n",
    "    exploration_final_eps=0.0, \n",
    "    exploration_fraction=0.1, \n",
    "    train_freq=1024, \n",
    "    batch_size=1024, \n",
    "    target_network_update_freq=-1, # -1 for no target network \n",
    "    prioritized_replay=False, \n",
    "    prioritized_replay_alpha=0.6, \n",
    "    prioritized_replay_beta0=0.4, \n",
    "    prioritized_replay_beta_increment=1e-4, \n",
    "    prioritized_replay_eps=1e-6,\n",
    "    prioritized_replay_update_freq=500, \n",
    "    checkpoint_path='./exp/TDL_CNN_2024_11_18/', \n",
    "    checkpoint_freq=2500, \n",
    "    check_gradient_freq=500, \n",
    "    restart_jump=False, \n",
    "    use_symmetry=True\n",
    "    )\n",
    "\n",
    "#profiler.disable()\n",
    "#stats = pstats.Stats(profiler)"
   ]
  },
  {
   "cell_type": "markdown",
   "metadata": {},
   "source": [
    "# Evaluation"
   ]
  },
  {
   "cell_type": "code",
   "execution_count": null,
   "metadata": {},
   "outputs": [
    {
     "name": "stderr",
     "output_type": "stream",
     "text": [
      "Exception ignored When destroying _lsprof profiler:\n",
      "Traceback (most recent call last):\n",
      "  File \"/var/folders/_6/22xfh5m12w79yz7j4yt010fw0000gn/T/ipykernel_86241/1243807404.py\", line 2, in <module>\n",
      "RuntimeError: Cannot install a profile function while another profile function is being installed\n"
     ]
    }
   ],
   "source": [
    "profiler = cProfile.Profile()\n",
    "profiler.enable()\n",
    "\n",
    "env = gym2048()\n",
    "model = TDL(CNN22, env)\n",
    "model.load_network('./exp/TDL_CNN_2024_11_18/rl_model_10000_epsiodes.zip')\n",
    "\n",
    "model.eval()\n",
    "\n",
    "model.env.playOneGame(policy=model.select_expectimax_action, verbose=True, depth=2)\n",
    "\n",
    "profiler.disable()\n",
    "stats = pstats.Stats(profiler)\n",
    "stats.dump_stats('./profile_results.prof')"
   ]
  },
  {
   "cell_type": "code",
   "execution_count": null,
   "metadata": {},
   "outputs": [],
   "source": [
    "def get_param_stats(model):\n",
    "    stats = {\n",
    "        \"Layer\": [],\n",
    "        \"Min\": [],\n",
    "        \"Max\": [],\n",
    "        \"Mean\": [],\n",
    "        \"Std\": [],\n",
    "        \"Num Params\": []\n",
    "    }\n",
    "\n",
    "    for name, param in model.named_parameters():\n",
    "        if param.requires_grad:\n",
    "            stats[\"Layer\"].append(name)\n",
    "            stats[\"Min\"].append(param.data.min().item())\n",
    "            stats[\"Max\"].append(param.data.max().item())\n",
    "            stats[\"Mean\"].append(param.data.mean().item())\n",
    "            stats[\"Std\"].append(param.data.std().item())\n",
    "            stats[\"Num Params\"].append(param.numel())\n",
    "\n",
    "    # Convert to DataFrame for easy viewing\n",
    "    stats_df = pd.DataFrame(stats)\n",
    "    return stats_df\n",
    "\n",
    "# Example usage\n",
    "model_stats = get_param_stats(model.policy_network)\n",
    "print(model_stats)"
   ]
  },
  {
   "cell_type": "code",
   "execution_count": null,
   "metadata": {},
   "outputs": [],
   "source": [
    "\n",
    "model_max_tiles, model_n_steps = env.evaluate(model=model, n_games=1000)\n",
    "\n",
    "data = {\n",
    "    'max_tiles': model_max_tiles,\n",
    "    'n_steps': model_n_steps\n",
    "    }\n",
    "\n",
    "with open('./exp/TDL_CNN_2024_11_18/stats_10000_episodes.pkl', 'wb') as file:\n",
    "    pickle.dump(data, file)"
   ]
  },
  {
   "cell_type": "markdown",
   "metadata": {},
   "source": [
    "# Comparison"
   ]
  },
  {
   "cell_type": "code",
   "execution_count": null,
   "metadata": {
    "colab": {
     "base_uri": "https://localhost:8080/",
     "height": 449
    },
    "id": "vGKT0J-GHTtY",
    "outputId": "bd19e191-c4e7-4da8-a3c3-3b845738b7c8",
    "tags": []
   },
   "outputs": [],
   "source": [
    "models = {\n",
    "    'Random': './exp/2048_random.pkl',\n",
    "    'TDL_nov14': './exp/TDL_CNN_2024_11_14_1/stats_10000_episodes.pkl',\n",
    "    'TDL_nov16': './exp/TDL_CNN_2024_11_16/stats_10000_episodes.pkl',\n",
    "    'TDL_nov18': './exp/TDL_CNN_2024_11_18/stats_10000_episodes.pkl'\n",
    "}\n",
    "\n",
    "df = pd.DataFrame()\n",
    "\n",
    "for id, path in models.items():\n",
    "    with open(path, 'rb') as file:\n",
    "        data = pickle.load(file)\n",
    "    df_loc = pd.DataFrame({'max_tiles':data['max_tiles']})\n",
    "    df_loc['model'] = id\n",
    "    df = pd.concat([df, df_loc], ignore_index=True)\n",
    "\n",
    "df = (df.groupby(['max_tiles', 'model']).size()/10).reset_index(name='counts')\n",
    "\n",
    "plt.figure(figsize=(12, 6))\n",
    "sns.barplot(data=df, x='max_tiles', y='counts', hue='model')\n",
    "plt.xlabel('Max tile')\n",
    "plt.ylabel('Percent')\n",
    "plt.tight_layout()\n",
    "plt.grid(linestyle='--')\n",
    "plt.show()"
   ]
  },
  {
   "cell_type": "code",
   "execution_count": null,
   "metadata": {},
   "outputs": [],
   "source": [
    "env = gym2048()\n",
    "env.reset()\n",
    "print(env.state[0])\n",
    "print(env.decode(env.state))\n",
    "zero_idx = np.argwhere(env.state[0] == 1)\n",
    "zero_idx\n",
    "for idx in zero_idx:\n",
    "    print(idx[0], idx[1])\n",
    "print(zero_idx.shape[0])"
   ]
  },
  {
   "cell_type": "code",
   "execution_count": null,
   "metadata": {},
   "outputs": [],
   "source": [
    "all([True, False])"
   ]
  },
  {
   "cell_type": "code",
   "execution_count": null,
   "metadata": {},
   "outputs": [],
   "source": []
  }
 ],
 "metadata": {
  "accelerator": "GPU",
  "colab": {
   "collapsed_sections": [
    "c8Qlp4ZYQxUK",
    "fcx0CgF1Q2Ex",
    "e9zSwJl4Q4yS",
    "PaiCNLXHuqDm"
   ],
   "gpuType": "T4",
   "provenance": []
  },
  "kernelspec": {
   "display_name": "Python 3",
   "language": "python",
   "name": "python3"
  },
  "language_info": {
   "codemirror_mode": {
    "name": "ipython",
    "version": 3
   },
   "file_extension": ".py",
   "mimetype": "text/x-python",
   "name": "python",
   "nbconvert_exporter": "python",
   "pygments_lexer": "ipython3",
   "version": "3.10.9"
  }
 },
 "nbformat": 4,
 "nbformat_minor": 4
}
